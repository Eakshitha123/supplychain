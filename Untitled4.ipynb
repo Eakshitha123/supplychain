{
 "cells": [
  {
   "cell_type": "code",
   "execution_count": 2,
   "id": "e6404aed-69d1-44d2-9def-4e11ad7f8efa",
   "metadata": {},
   "outputs": [
    {
     "name": "stdout",
     "output_type": "stream",
     "text": [
      "                  Date         Region       Country    Supplier    Item  \\\n",
      "0  2020-01-01 00:00:00  North America           USA  Supplier B  Item Z   \n",
      "1  2020-01-01 00:01:00  South America  South Africa  Supplier E  Item W   \n",
      "2  2020-01-01 00:02:00  South America           USA  Supplier B  Item Y   \n",
      "3  2020-01-01 00:03:00           Asia       Germany  Supplier D  Item Y   \n",
      "4  2020-01-01 00:04:00           Asia       Germany  Supplier B  Item X   \n",
      "\n",
      "   Inventory Level  Lead Time (days) Transport Status  News Sentiment  \\\n",
      "0             4401                 3          Delayed        0.027551   \n",
      "1               88                19          Delayed        0.672653   \n",
      "2             1780                 2        Delivered        0.200830   \n",
      "3             3480                 9        Delivered       -0.461069   \n",
      "4             3977                 6        Delivered       -0.615187   \n",
      "\n",
      "   Risk Factor  \n",
      "0     0.053238  \n",
      "1     0.029133  \n",
      "2     0.020455  \n",
      "3     0.786145  \n",
      "4     0.778914  \n"
     ]
    }
   ],
   "source": [
    "import pandas as pd\n",
    "data = pd.read_csv(\"supply_chain_sample_data.csv\")\n",
    "print(data.head())  # Preview the data\n"
   ]
  },
  {
   "cell_type": "code",
   "execution_count": 4,
   "id": "6799522c-cd98-492e-84b3-856c35fd9da0",
   "metadata": {},
   "outputs": [
    {
     "name": "stderr",
     "output_type": "stream",
     "text": [
      "No model was supplied, defaulted to distilbert/distilbert-base-uncased-finetuned-sst-2-english and revision 714eb0f (https://huggingface.co/distilbert/distilbert-base-uncased-finetuned-sst-2-english).\n",
      "Using a pipeline without specifying a model name and revision in production is not recommended.\n"
     ]
    },
    {
     "data": {
      "application/vnd.jupyter.widget-view+json": {
       "model_id": "58d4c33953634becaf4947b58a1d8778",
       "version_major": 2,
       "version_minor": 0
      },
      "text/plain": [
       "model.safetensors:   0%|          | 0.00/268M [00:00<?, ?B/s]"
      ]
     },
     "metadata": {},
     "output_type": "display_data"
    },
    {
     "name": "stderr",
     "output_type": "stream",
     "text": [
      "C:\\Users\\Lenovo\\AppData\\Local\\Programs\\Python\\Python39\\lib\\site-packages\\huggingface_hub\\file_download.py:140: UserWarning: `huggingface_hub` cache-system uses symlinks by default to efficiently store duplicated files but your machine does not support them in C:\\Users\\Lenovo\\.cache\\huggingface\\hub\\models--distilbert--distilbert-base-uncased-finetuned-sst-2-english. Caching files will still work but in a degraded version that might require more space on your disk. This warning can be disabled by setting the `HF_HUB_DISABLE_SYMLINKS_WARNING` environment variable. For more details, see https://huggingface.co/docs/huggingface_hub/how-to-cache#limitations.\n",
      "To support symlinks on Windows, you either need to activate Developer Mode or to run Python as an administrator. In order to activate developer mode, see this article: https://docs.microsoft.com/en-us/windows/apps/get-started/enable-your-device-for-development\n",
      "  warnings.warn(message)\n"
     ]
    },
    {
     "data": {
      "application/vnd.jupyter.widget-view+json": {
       "model_id": "4c3b123e1041442f83544c2d7ee5a58b",
       "version_major": 2,
       "version_minor": 0
      },
      "text/plain": [
       "tokenizer_config.json:   0%|          | 0.00/48.0 [00:00<?, ?B/s]"
      ]
     },
     "metadata": {},
     "output_type": "display_data"
    },
    {
     "data": {
      "application/vnd.jupyter.widget-view+json": {
       "model_id": "3a9de241b67745fab1724c2758a17a20",
       "version_major": 2,
       "version_minor": 0
      },
      "text/plain": [
       "vocab.txt:   0%|          | 0.00/232k [00:00<?, ?B/s]"
      ]
     },
     "metadata": {},
     "output_type": "display_data"
    },
    {
     "name": "stderr",
     "output_type": "stream",
     "text": [
      "Device set to use cpu\n"
     ]
    }
   ],
   "source": [
    "from transformers import pipeline\n",
    "sentiment_analyzer = pipeline(\"sentiment-analysis\")\n"
   ]
  },
  {
   "cell_type": "code",
   "execution_count": 6,
   "id": "6d1a089f-1549-4a63-9096-215215068e35",
   "metadata": {},
   "outputs": [
    {
     "name": "stdout",
     "output_type": "stream",
     "text": [
      "Index(['Date', 'Region', 'Country', 'Supplier', 'Item', 'Inventory Level',\n",
      "       'Lead Time (days)', 'Transport Status', 'News Sentiment',\n",
      "       'Risk Factor'],\n",
      "      dtype='object')\n"
     ]
    }
   ],
   "source": [
    "print(data.columns)\n"
   ]
  },
  {
   "cell_type": "code",
   "execution_count": 11,
   "id": "4b2e64a4-d6ee-4c21-8d1a-a2d3ab764b33",
   "metadata": {},
   "outputs": [],
   "source": [
    "data = pd.read_csv('supply_chain_sample_data.csv')\n"
   ]
  },
  {
   "cell_type": "code",
   "execution_count": 12,
   "id": "5f7f5969-bd7d-4846-800a-ccde3992cd14",
   "metadata": {},
   "outputs": [
    {
     "name": "stderr",
     "output_type": "stream",
     "text": [
      "No model was supplied, defaulted to distilbert/distilbert-base-uncased-finetuned-sst-2-english and revision 714eb0f (https://huggingface.co/distilbert/distilbert-base-uncased-finetuned-sst-2-english).\n",
      "Using a pipeline without specifying a model name and revision in production is not recommended.\n",
      "Device set to use cpu\n"
     ]
    },
    {
     "name": "stdout",
     "output_type": "stream",
     "text": [
      "         Date Transport Status  Transport Sentiment  Inventory Level  \\\n",
      "0  2020-01-01          Delayed                   -1             4401   \n",
      "1  2020-01-02        Delivered                    1               88   \n",
      "2  2020-01-03       In Transit                    0             1780   \n",
      "\n",
      "  Inventory Sentiment  Lead Time (days) Lead Time Sentiment  Risk Factor  \\\n",
      "0            POSITIVE                 3            POSITIVE     0.053238   \n",
      "1            NEGATIVE                19            NEGATIVE     0.029133   \n",
      "2            POSITIVE                 2            POSITIVE     0.786145   \n",
      "\n",
      "  Risk Factor Sentiment  \n",
      "0              POSITIVE  \n",
      "1              POSITIVE  \n",
      "2              NEGATIVE  \n"
     ]
    }
   ],
   "source": [
    "import pandas as pd\n",
    "from transformers import pipeline\n",
    "\n",
    "# Initialize sentiment analysis pipeline (if needed for text data)\n",
    "sentiment_analyzer = pipeline(\"sentiment-analysis\")\n",
    "\n",
    "# Sample DataFrame (replace this with your actual data)\n",
    "data = pd.DataFrame({\n",
    "    'Date': ['2020-01-01', '2020-01-02', '2020-01-03'],\n",
    "    'Region': ['North America', 'South America', 'Asia'],\n",
    "    'Country': ['USA', 'South Africa', 'Germany'],\n",
    "    'Transport Status': ['Delayed', 'Delivered', 'In Transit'],\n",
    "    'Inventory Level': [4401, 88, 1780],\n",
    "    'Lead Time (days)': [3, 19, 2],\n",
    "    'News Sentiment': [0.027551, 0.672653, 0.200830],\n",
    "    'Risk Factor': [0.053238, 0.029133, 0.786145]\n",
    "})\n",
    "\n",
    "# Define a dictionary to map transport status to sentiment scores\n",
    "transport_sentiment_map = {\n",
    "    'Delayed': -1,      # Negative sentiment\n",
    "    'Delivered': 1,     # Positive sentiment\n",
    "    'In Transit': 0,    # Neutral sentiment\n",
    "    'On Time': 1,       # Positive sentiment\n",
    "    'Pending': 0        # Neutral sentiment\n",
    "}\n",
    "\n",
    "# Function to map Transport Status to sentiment score\n",
    "def transport_sentiment(status):\n",
    "    return transport_sentiment_map.get(status, 0)  # Default to neutral (0) if not found\n",
    "\n",
    "# Function to assign sentiment based on Inventory Level\n",
    "def inventory_sentiment(level):\n",
    "    if level > 1000:\n",
    "        return \"POSITIVE\"\n",
    "    else:\n",
    "        return \"NEGATIVE\"\n",
    "\n",
    "# Function to assign sentiment based on Lead Time\n",
    "def lead_time_sentiment(lead_time):\n",
    "    if lead_time <= 5:\n",
    "        return \"POSITIVE\"\n",
    "    else:\n",
    "        return \"NEGATIVE\"\n",
    "\n",
    "# Function to assign sentiment based on Risk Factor\n",
    "def risk_factor_sentiment(risk_factor):\n",
    "    if risk_factor < 0.3:\n",
    "        return \"POSITIVE\"  # Low risk, positive sentiment\n",
    "    elif risk_factor > 0.7:\n",
    "        return \"NEGATIVE\"  # High risk, negative sentiment\n",
    "    else:\n",
    "        return \"NEUTRAL\"   # Moderate risk, neutral sentiment\n",
    "\n",
    "# Apply sentiment analysis to each column\n",
    "data['Transport Sentiment'] = data['Transport Status'].apply(transport_sentiment)\n",
    "data['Inventory Sentiment'] = data['Inventory Level'].apply(inventory_sentiment)\n",
    "data['Lead Time Sentiment'] = data['Lead Time (days)'].apply(lead_time_sentiment)\n",
    "data['Risk Factor Sentiment'] = data['Risk Factor'].apply(risk_factor_sentiment)\n",
    "\n",
    "# Display the updated DataFrame\n",
    "print(data[['Date', 'Transport Status', 'Transport Sentiment', \n",
    "            'Inventory Level', 'Inventory Sentiment', \n",
    "            'Lead Time (days)', 'Lead Time Sentiment', \n",
    "            'Risk Factor', 'Risk Factor Sentiment']])\n"
   ]
  },
  {
   "cell_type": "code",
   "execution_count": null,
   "id": "c83452cf-e0b6-4647-afa4-83f9d6357642",
   "metadata": {},
   "outputs": [
    {
     "data": {
      "application/vnd.jupyter.widget-view+json": {
       "model_id": "9fcb40addf344071881385da4ff5a755",
       "version_major": 2,
       "version_minor": 0
      },
      "text/plain": [
       "config.json:   0%|          | 0.00/629 [00:00<?, ?B/s]"
      ]
     },
     "metadata": {},
     "output_type": "display_data"
    },
    {
     "name": "stderr",
     "output_type": "stream",
     "text": [
      "C:\\Users\\Lenovo\\AppData\\Local\\Programs\\Python\\Python39\\lib\\site-packages\\huggingface_hub\\file_download.py:140: UserWarning: `huggingface_hub` cache-system uses symlinks by default to efficiently store duplicated files but your machine does not support them in C:\\Users\\Lenovo\\.cache\\huggingface\\hub\\models--distilbert-base-uncased-finetuned-sst-2-english. Caching files will still work but in a degraded version that might require more space on your disk. This warning can be disabled by setting the `HF_HUB_DISABLE_SYMLINKS_WARNING` environment variable. For more details, see https://huggingface.co/docs/huggingface_hub/how-to-cache#limitations.\n",
      "To support symlinks on Windows, you either need to activate Developer Mode or to run Python as an administrator. In order to activate developer mode, see this article: https://docs.microsoft.com/en-us/windows/apps/get-started/enable-your-device-for-development\n",
      "  warnings.warn(message)\n"
     ]
    },
    {
     "data": {
      "application/vnd.jupyter.widget-view+json": {
       "model_id": "c65f87deb16d4a30acb84d45c2871774",
       "version_major": 2,
       "version_minor": 0
      },
      "text/plain": [
       "model.safetensors:   0%|          | 0.00/268M [00:00<?, ?B/s]"
      ]
     },
     "metadata": {},
     "output_type": "display_data"
    },
    {
     "data": {
      "application/vnd.jupyter.widget-view+json": {
       "model_id": "452364897dc34fb9ad34e98371924f02",
       "version_major": 2,
       "version_minor": 0
      },
      "text/plain": [
       "tokenizer_config.json:   0%|          | 0.00/48.0 [00:00<?, ?B/s]"
      ]
     },
     "metadata": {},
     "output_type": "display_data"
    },
    {
     "data": {
      "application/vnd.jupyter.widget-view+json": {
       "model_id": "85483defe1594cb1a9800ffdf90fcc6a",
       "version_major": 2,
       "version_minor": 0
      },
      "text/plain": [
       "vocab.txt:   0%|          | 0.00/232k [00:00<?, ?B/s]"
      ]
     },
     "metadata": {},
     "output_type": "display_data"
    },
    {
     "name": "stderr",
     "output_type": "stream",
     "text": [
      "Device set to use cpu\n"
     ]
    }
   ],
   "source": [
    "import pandas as pd\n",
    "from transformers import pipeline\n",
    "\n",
    "# Initialize the sentiment analysis pipeline with the specified model and device\n",
    "model_name = \"distilbert-base-uncased-finetuned-sst-2-english\"  # Suitable model for sentiment analysis\n",
    "device = -1  # -1 means CPU, 0 means GPU (if available)\n",
    "sentiment_analyzer = pipeline(\"sentiment-analysis\", model=model_name, device=device)\n",
    "\n",
    "# Load your data from the CSV file\n",
    "input_file = \"supply_chain_sample_data.csv\"  # Your actual CSV file path\n",
    "data = pd.read_csv(input_file)\n",
    "\n",
    "# 1. Apply sentiment analysis to the 'Transport Status' column\n",
    "transport_sentiment_map = {\n",
    "    'Delayed': -1,  # Negative sentiment\n",
    "    'Delivered': 1,  # Positive sentiment\n",
    "    'In Transit': 0,  # Neutral sentiment\n",
    "    'On Time': 1,  # Positive sentiment\n",
    "    'Pending': 0  # Neutral sentiment\n",
    "}\n",
    "\n",
    "# Add Sentiment based on Transport Status\n",
    "data['Transport Sentiment'] = data['Transport Status'].map(transport_sentiment_map)\n",
    "\n",
    "# 2. Apply sentiment analysis to the 'News Sentiment' column (if needed)\n",
    "data['Sentiment'] = data['News Sentiment'].apply(lambda x: sentiment_analyzer(str(x))[0]['label'])\n",
    "data['Confidence'] = data['News Sentiment'].apply(lambda x: sentiment_analyzer(str(x))[0]['score'])\n",
    "\n",
    "# 3. Add more columns (if needed), such as Risk Factor, Inventory Level, Lead Time\n",
    "# These columns are already in the DataFrame, so no additional processing is required here\n",
    "\n",
    "# 4. Save the updated DataFrame to a new CSV file\n",
    "output_file = \"updated_supply_chain_data.csv\"  # New file to save the updated data\n",
    "data.to_csv(output_file, index=False)\n",
    "\n",
    "# Print the updated DataFrame\n",
    "print(data)\n"
   ]
  },
  {
   "cell_type": "code",
   "execution_count": null,
   "id": "015796cc-426e-43d9-b8c1-17410b93f7bd",
   "metadata": {},
   "outputs": [],
   "source": [
    "import pandas as pd\n",
    "from transformers import pipeline\n",
    "\n",
    "# Load the CSV file into a DataFrame\n",
    "data = pd.read_csv('supply_chain_sample_data.csv')\n",
    "\n",
    "# Initialize the sentiment analysis pipeline\n",
    "sentiment_analyzer = pipeline(\"sentiment-analysis\")\n",
    "\n",
    "# Example: Map values for 'Transport Status' column\n",
    "transport_status_mapping = {\n",
    "    'Delayed': -1,     # Negative sentiment\n",
    "    'Delivered': 1,    # Positive sentiment\n",
    "    'In Transit': 0,   # Neutral sentiment\n",
    "    'On Time': 1,      # Positive sentiment\n",
    "    'Pending': 0       # Neutral sentiment\n",
    "}\n",
    "\n",
    "# Apply sentiment analysis based on the 'Transport Status' column\n",
    "data['Transport Sentiment'] = data['Transport Status'].map(transport_status_mapping)\n",
    "\n",
    "# Apply sentiment analysis to the 'News Sentiment' column\n",
    "data['Sentiment'] = data['News Sentiment'].apply(lambda x: sentiment_analyzer(str(x))[0]['label'])\n",
    "data['Confidence'] = data['News Sentiment'].apply(lambda x: sentiment_analyzer(str(x))[0]['score'])\n",
    "\n",
    "# If you have other columns to modify or add, do so here\n",
    "# For example, you can add a Risk Factor column or modify other data as needed\n",
    "\n",
    "# Save the updated DataFrame to a new Excel file\n",
    "data.to_excel('updated_supply_chain_sample_data.xlsx', index=False)\n",
    "\n",
    "# Check the first few rows to ensure it's updated\n",
    "print(data.head())\n"
   ]
  },
  {
   "cell_type": "code",
   "execution_count": null,
   "id": "b18dfc6a-3616-474d-b45d-b297ad32020a",
   "metadata": {},
   "outputs": [],
   "source": []
  }
 ],
 "metadata": {
  "kernelspec": {
   "display_name": "Python 3 (ipykernel)",
   "language": "python",
   "name": "python3"
  },
  "language_info": {
   "codemirror_mode": {
    "name": "ipython",
    "version": 3
   },
   "file_extension": ".py",
   "mimetype": "text/x-python",
   "name": "python",
   "nbconvert_exporter": "python",
   "pygments_lexer": "ipython3",
   "version": "3.9.9"
  }
 },
 "nbformat": 4,
 "nbformat_minor": 5
}
