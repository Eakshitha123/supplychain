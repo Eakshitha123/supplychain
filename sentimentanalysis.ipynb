{
 "cells": [
  {
   "cell_type": "code",
   "execution_count": 2,
   "id": "46b8b846-091d-4197-b755-b6761aaebd3f",
   "metadata": {},
   "outputs": [
    {
     "name": "stdout",
     "output_type": "stream",
     "text": [
      "Data saved successfully!\n",
      "  Transport Status  Transport Status Sentiment  News Sentiment  \\\n",
      "0          Delayed                        -1.0        0.027551   \n",
      "1          Delayed                        -1.0        0.672653   \n",
      "2        Delivered                         1.0        0.200830   \n",
      "3        Delivered                         1.0       -0.461069   \n",
      "4        Delivered                         1.0       -0.615187   \n",
      "\n",
      "   News Sentiment Polarity  \n",
      "0                      0.0  \n",
      "1                      0.0  \n",
      "2                      0.0  \n",
      "3                      0.0  \n",
      "4                      0.0  \n"
     ]
    }
   ],
   "source": []
  },
  {
   "cell_type": "code",
   "execution_count": 3,
   "id": "87fc2d6c-1608-4d6d-b6c9-7d1aca9fb576",
   "metadata": {},
   "outputs": [
    {
     "name": "stdout",
     "output_type": "stream",
     "text": [
      "                  Date         Region       Country    Supplier    Item  \\\n",
      "0  2020-01-01 00:00:00  North America           USA  Supplier B  Item Z   \n",
      "1  2020-01-01 00:01:00  South America  South Africa  Supplier E  Item W   \n",
      "2  2020-01-01 00:02:00  South America           USA  Supplier B  Item Y   \n",
      "3  2020-01-01 00:03:00           Asia       Germany  Supplier D  Item Y   \n",
      "4  2020-01-01 00:04:00           Asia       Germany  Supplier B  Item X   \n",
      "\n",
      "   Inventory Level  Lead Time (days) Transport Status  News Sentiment  \\\n",
      "0             4401                 3          Delayed        0.027551   \n",
      "1               88                19          Delayed        0.672653   \n",
      "2             1780                 2        Delivered        0.200830   \n",
      "3             3480                 9        Delivered       -0.461069   \n",
      "4             3977                 6        Delivered       -0.615187   \n",
      "\n",
      "   Risk Factor  \n",
      "0     0.053238  \n",
      "1     0.029133  \n",
      "2     0.020455  \n",
      "3     0.786145  \n",
      "4     0.778914  \n"
     ]
    }
   ],
   "source": [
    "import pandas as pd\n",
    "\n",
    "# Step 1: Load the dataset\n",
    "df = pd.read_csv('supply_chain_sample_data.csv')\n",
    "\n",
    "# Step 2: Display the first few rows to check the data\n",
    "print(df.head())\n"
   ]
  },
  {
   "cell_type": "code",
   "execution_count": 4,
   "id": "5366033a-194f-4a01-8030-720c342019e1",
   "metadata": {},
   "outputs": [
    {
     "name": "stdout",
     "output_type": "stream",
     "text": [
      "  Transport Status  Transport Status Sentiment\n",
      "0          Delayed                        -1.0\n",
      "1          Delayed                        -1.0\n",
      "2        Delivered                         1.0\n",
      "3        Delivered                         1.0\n",
      "4        Delivered                         1.0\n"
     ]
    }
   ],
   "source": [
    "# Step 2: Sentiment analysis on 'Transport Status'\n",
    "status_sentiment_map = {\n",
    "    'Delivered': 1,  # Positive sentiment\n",
    "    'In transit': 0,  # Neutral sentiment\n",
    "    'On Time': 1,  # Positive sentiment\n",
    "    'Pending': 0,  # Neutral sentiment\n",
    "    'Delayed': -1  # Negative sentiment\n",
    "}\n",
    "\n",
    "# Map the sentiment values to a new column 'Transport Status Sentiment'\n",
    "df['Transport Status Sentiment'] = df['Transport Status'].map(status_sentiment_map)\n",
    "\n",
    "# Display the updated DataFrame to check the new column\n",
    "print(df[['Transport Status', 'Transport Status Sentiment']].head())\n"
   ]
  },
  {
   "cell_type": "code",
   "execution_count": 6,
   "id": "35cda508-d395-490e-a163-25ce2c3b31d6",
   "metadata": {},
   "outputs": [
    {
     "name": "stdout",
     "output_type": "stream",
     "text": [
      "  Transport Status  Transport Status Sentiment\n",
      "0          Delayed                          -1\n",
      "1          Delayed                          -1\n",
      "2        Delivered                           1\n",
      "3        Delivered                           1\n",
      "4        Delivered                           1\n"
     ]
    }
   ],
   "source": [
    "# Sentiment mapping for 'Transport Status'\n",
    "status_sentiment_map = {\n",
    "    'Delivered': 1,  # Positive sentiment\n",
    "    'In Transit': 0,  # Neutral sentiment\n",
    "    'On Time': 1,  # Positive sentiment\n",
    "    'Pending': 0,  # Neutral sentiment\n",
    "    'Delayed': -1  # Negative sentiment\n",
    "}\n",
    "\n",
    "# Map the sentiment values to a new column 'Transport Status Sentiment'\n",
    "df['Transport Status Sentiment'] = df['Transport Status'].map(status_sentiment_map)\n",
    "\n",
    "# Display the updated DataFrame to check the new column\n",
    "print(df[['Transport Status', 'Transport Status Sentiment']].head())\n",
    "\n"
   ]
  },
  {
   "cell_type": "code",
   "execution_count": 7,
   "id": "96f78dc7-930c-40cb-a8e8-b739b63e0834",
   "metadata": {},
   "outputs": [
    {
     "name": "stdout",
     "output_type": "stream",
     "text": [
      "   News Sentiment News Sentiment Category\n",
      "0        0.027551                Positive\n",
      "1        0.672653                Positive\n",
      "2        0.200830                Positive\n",
      "3       -0.461069                Negative\n",
      "4       -0.615187                Negative\n"
     ]
    }
   ],
   "source": [
    "# Categorize the 'News Sentiment' column into Positive, Neutral, and Negative\n",
    "def categorize_sentiment(score):\n",
    "    if score > 0:\n",
    "        return 'Positive'\n",
    "    elif score < 0:\n",
    "        return 'Negative'\n",
    "    else:\n",
    "        return 'Neutral'\n",
    "\n",
    "# Apply the categorization function to the 'News Sentiment' column\n",
    "df['News Sentiment Category'] = df['News Sentiment'].apply(categorize_sentiment)\n",
    "\n",
    "# Display the updated DataFrame to check the new column\n",
    "print(df[['News Sentiment', 'News Sentiment Category']].head())\n"
   ]
  },
  {
   "cell_type": "code",
   "execution_count": 8,
   "id": "4ffc5c7f-e1b0-49d4-bc71-64c6578f134d",
   "metadata": {},
   "outputs": [
    {
     "name": "stdout",
     "output_type": "stream",
     "text": [
      "News Sentiment Category  Negative  Positive\n",
      "Transport Status                           \n",
      "Delayed                     99618    100363\n",
      "Delivered                  100031     99764\n",
      "In Transit                  99954     99979\n",
      "On Time                     99710    100435\n",
      "Pending                     99839    100307\n"
     ]
    }
   ],
   "source": [
    "# Group by 'Transport Status' and 'News Sentiment Category' to see the distribution\n",
    "sentiment_transport_status = df.groupby(['Transport Status', 'News Sentiment Category']).size().unstack()\n",
    "\n",
    "# Display the result\n",
    "print(sentiment_transport_status)\n"
   ]
  },
  {
   "cell_type": "code",
   "execution_count": 9,
   "id": "5f3acb41-e5f4-4646-89f2-5552ded2ff06",
   "metadata": {},
   "outputs": [
    {
     "ename": "ModuleNotFoundError",
     "evalue": "No module named 'seaborn'",
     "output_type": "error",
     "traceback": [
      "\u001b[1;31m---------------------------------------------------------------------------\u001b[0m",
      "\u001b[1;31mModuleNotFoundError\u001b[0m                       Traceback (most recent call last)",
      "Cell \u001b[1;32mIn[9], line 1\u001b[0m\n\u001b[1;32m----> 1\u001b[0m \u001b[38;5;28;01mimport\u001b[39;00m \u001b[38;5;21;01mseaborn\u001b[39;00m \u001b[38;5;28;01mas\u001b[39;00m \u001b[38;5;21;01msns\u001b[39;00m\n\u001b[0;32m      3\u001b[0m \u001b[38;5;66;03m# Plotting sentiment distribution across transport statuses\u001b[39;00m\n\u001b[0;32m      4\u001b[0m plt\u001b[38;5;241m.\u001b[39mfigure(figsize\u001b[38;5;241m=\u001b[39m(\u001b[38;5;241m10\u001b[39m, \u001b[38;5;241m6\u001b[39m))\n",
      "\u001b[1;31mModuleNotFoundError\u001b[0m: No module named 'seaborn'"
     ]
    }
   ],
   "source": [
    "import seaborn as sns\n",
    "\n",
    "# Plotting sentiment distribution across transport statuses\n",
    "plt.figure(figsize=(10, 6))\n",
    "sns.countplot(data=df, x='Transport Status', hue='News Sentiment Category', palette='coolwarm')\n",
    "plt.title('Sentiment Distribution by Transport Status')\n",
    "plt.xlabel('Transport Status')\n",
    "plt.ylabel('Count')\n",
    "plt.show()\n"
   ]
  },
  {
   "cell_type": "code",
   "execution_count": 10,
   "id": "05f99df5-12ae-416d-9435-dfee27d8b996",
   "metadata": {},
   "outputs": [
    {
     "name": "stdout",
     "output_type": "stream",
     "text": [
      "File saved successfully as 'updated_supply_chain_data.csv'\n"
     ]
    }
   ],
   "source": [
    "# Step 1: Load the data\n",
    "import pandas as pd\n",
    "\n",
    "# Load the CSV file\n",
    "df = pd.read_csv('supply_chain_sample_data.csv')\n",
    "\n",
    "# Step 2: Sentiment Analysis - Create Sentiment Categories for News Sentiment\n",
    "def categorize_sentiment(score):\n",
    "    if score >= 0:\n",
    "        return 'Positive'\n",
    "    else:\n",
    "        return 'Negative'\n",
    "\n",
    "df['News Sentiment Category'] = df['News Sentiment'].apply(categorize_sentiment)\n",
    "\n",
    "# Step 3: Sentiment Analysis - Create Sentiment for Transport Status\n",
    "# Map transport status to sentiment values\n",
    "sentiment_mapping = {\n",
    "    'Delayed': -1,\n",
    "    'Delivered': 1,\n",
    "    'In Transit': 0,\n",
    "    'On Time': 1,\n",
    "    'Pending': 0\n",
    "}\n",
    "\n",
    "df['Transport Status Sentiment'] = df['Transport Status'].map(sentiment_mapping)\n",
    "\n",
    "# Step 4: Save the updated DataFrame to a new CSV file\n",
    "df.to_csv('updated_supply_chain_data.csv', index=False)\n",
    "\n",
    "# Confirm that the file is saved\n",
    "print(\"File saved successfully as 'updated_supply_chain_data.csv'\")\n"
   ]
  },
  {
   "cell_type": "code",
   "execution_count": 11,
   "id": "6745d7c2-56bb-420f-8d66-50185fa387af",
   "metadata": {},
   "outputs": [
    {
     "name": "stdout",
     "output_type": "stream",
     "text": [
      "                  Date         Region       Country    Supplier    Item  \\\n",
      "0  2020-01-01 00:00:00  North America           USA  Supplier B  Item Z   \n",
      "1  2020-01-01 00:01:00  South America  South Africa  Supplier E  Item W   \n",
      "2  2020-01-01 00:02:00  South America           USA  Supplier B  Item Y   \n",
      "3  2020-01-01 00:03:00           Asia       Germany  Supplier D  Item Y   \n",
      "4  2020-01-01 00:04:00           Asia       Germany  Supplier B  Item X   \n",
      "\n",
      "   Inventory Level  Lead Time (days) Transport Status  News Sentiment  \\\n",
      "0             4401                 3          Delayed        0.027551   \n",
      "1               88                19          Delayed        0.672653   \n",
      "2             1780                 2        Delivered        0.200830   \n",
      "3             3480                 9        Delivered       -0.461069   \n",
      "4             3977                 6        Delivered       -0.615187   \n",
      "\n",
      "   Risk Factor  Transport Status Sentiment News Sentiment Category  \\\n",
      "0     0.053238                          -1                Positive   \n",
      "1     0.029133                          -1                Positive   \n",
      "2     0.020455                           1                Positive   \n",
      "3     0.786145                           1                Negative   \n",
      "4     0.778914                           1                Negative   \n",
      "\n",
      "   Transport Status Encoded  \n",
      "0                         0  \n",
      "1                         0  \n",
      "2                         1  \n",
      "3                         1  \n",
      "4                         1  \n"
     ]
    }
   ],
   "source": [
    "# Import necessary libraries\n",
    "import pandas as pd\n",
    "from textblob import TextBlob\n",
    "from sklearn.preprocessing import LabelEncoder\n",
    "\n",
    "# Step 1: Load the dataset\n",
    "file_name = 'supply_chain_sample_data.csv'  # Use the file name directly if you're in the correct folder\n",
    "df = pd.read_csv(file_name)\n",
    "\n",
    "# Step 2: Perform Sentiment Analysis on 'Transport Status'\n",
    "def get_sentiment(transport_status):\n",
    "    # You can assign sentiment values based on transport status (if needed)\n",
    "    sentiment_map = {\n",
    "        'Delayed': -1,\n",
    "        'Delivered': 1,\n",
    "        'In Transit': 0,  # Neutral\n",
    "        'On Time': 1,\n",
    "        'Pending': 0  # Neutral\n",
    "    }\n",
    "    return sentiment_map.get(transport_status, 0)  # Default to neutral (0) if not found\n",
    "\n",
    "# Apply sentiment analysis to the 'Transport Status' column\n",
    "df['Transport Status Sentiment'] = df['Transport Status'].apply(get_sentiment)\n",
    "\n",
    "# Step 3: Perform Sentiment Analysis on 'News Sentiment'\n",
    "def get_news_sentiment(sentiment_score):\n",
    "    if sentiment_score > 0:\n",
    "        return 'Positive'\n",
    "    elif sentiment_score < 0:\n",
    "        return 'Negative'\n",
    "    else:\n",
    "        return 'Neutral'\n",
    "\n",
    "# Apply sentiment analysis to the 'News Sentiment' column\n",
    "df['News Sentiment Category'] = df['News Sentiment'].apply(get_news_sentiment)\n",
    "\n",
    "# Step 4: Label Encoding for 'Transport Status'\n",
    "encoder = LabelEncoder()\n",
    "df['Transport Status Encoded'] = encoder.fit_transform(df['Transport Status'])\n",
    "\n",
    "# Step 5: Save the updated dataset\n",
    "updated_file_name = 'updated_supply_chain_sample_data.csv'  # Save with a new file name in the same folder\n",
    "df.to_csv(updated_file_name, index=False)\n",
    "\n",
    "# Display the updated data\n",
    "print(df.head())"
   ]
  },
  {
   "cell_type": "code",
   "execution_count": 16,
   "id": "cf59ad7a-62d6-49a0-9e0e-51635e3d8ebd",
   "metadata": {},
   "outputs": [
    {
     "name": "stdout",
     "output_type": "stream",
     "text": [
      "                  Date         Region       Country    Supplier    Item  \\\n",
      "0  2020-01-01 00:00:00  North America           USA  Supplier B  Item Z   \n",
      "1  2020-01-01 00:01:00  South America  South Africa  Supplier E  Item W   \n",
      "2  2020-01-01 00:02:00  South America           USA  Supplier B  Item Y   \n",
      "3  2020-01-01 00:03:00           Asia       Germany  Supplier D  Item Y   \n",
      "4  2020-01-01 00:04:00           Asia       Germany  Supplier B  Item X   \n",
      "\n",
      "   Inventory Level  Lead Time (days) Transport Status  News Sentiment  \\\n",
      "0             4401                 3          Delayed        0.027551   \n",
      "1               88                19          Delayed        0.672653   \n",
      "2             1780                 2        Delivered        0.200830   \n",
      "3             3480                 9        Delivered       -0.461069   \n",
      "4             3977                 6        Delivered       -0.615187   \n",
      "\n",
      "   Risk Factor  Transport Status Sentiment News Sentiment Category  \n",
      "0     0.053238                          -1                Positive  \n",
      "1     0.029133                          -1                Positive  \n",
      "2     0.020455                           1                Positive  \n",
      "3     0.786145                           1                Negative  \n",
      "4     0.778914                           1                Negative  \n"
     ]
    }
   ],
   "source": [
    "# Import necessary libraries\n",
    "import pandas as pd\n",
    "from textblob import TextBlob\n",
    "\n",
    "# Step 1: Load the dataset\n",
    "file_name = 'supply_chain_sample_data.csv'  # Use the file name directly if you're in the correct folder\n",
    "df = pd.read_csv(file_name)\n",
    "\n",
    "# Step 2: Perform Sentiment Analysis on 'Transport Status'\n",
    "def get_sentiment(transport_status):\n",
    "    # Assign sentiment values based on transport status\n",
    "    sentiment_map = {\n",
    "        'Delayed': -1,     # Negative sentiment\n",
    "        'Delivered': 1,    # Positive sentiment\n",
    "        'In Transit': 0,   # Neutral sentiment\n",
    "        'On Time': 1,      # Positive sentiment\n",
    "        'Pending': 0       # Neutral sentiment\n",
    "    }\n",
    "    return sentiment_map.get(transport_status, 0)  # Default to neutral (0) if not found\n",
    "\n",
    "# Apply sentiment analysis to the 'Transport Status' column\n",
    "df['Transport Status Sentiment'] = df['Transport Status'].apply(get_sentiment)\n",
    "\n",
    "# Step 3: Perform Sentiment Analysis on 'News Sentiment'\n",
    "def get_news_sentiment(sentiment_score):\n",
    "    # Ensure that exactly 0 is treated as Neutral, positive as Positive, and negative as Negative\n",
    "    if sentiment_score > 0:\n",
    "        return 'Positive'\n",
    "    elif sentiment_score < 0:\n",
    "        return 'Negative'\n",
    "    elif sentiment_score == 0:  # Explicitly check for 0 and treat as Neutral\n",
    "        return 'Neutral'\n",
    "\n",
    "# Apply sentiment analysis to the 'News Sentiment' column\n",
    "df['News Sentiment Category'] = df['News Sentiment'].apply(get_news_sentiment)\n",
    "\n",
    "# Step 4: Save the updated dataset without 'Transport Status Encoded'\n",
    "updated_file_name = 'updated_supply_chain_sample_data.csv'  # Save with a new file name in the same folder\n",
    "df.to_csv(updated_file_name, index=False)\n",
    "\n",
    "# Display the updated data\n",
    "print(df.head())\n"
   ]
  },
  {
   "cell_type": "code",
   "execution_count": 17,
   "id": "4cb6361c-ea0b-4fb2-a8a1-91b4e900e2eb",
   "metadata": {},
   "outputs": [
    {
     "name": "stdout",
     "output_type": "stream",
     "text": [
      "                  Date         Region       Country    Supplier    Item  \\\n",
      "0  2020-01-01 00:00:00  North America           USA  Supplier B  Item Z   \n",
      "1  2020-01-01 00:01:00  South America  South Africa  Supplier E  Item W   \n",
      "2  2020-01-01 00:02:00  South America           USA  Supplier B  Item Y   \n",
      "3  2020-01-01 00:03:00           Asia       Germany  Supplier D  Item Y   \n",
      "4  2020-01-01 00:04:00           Asia       Germany  Supplier B  Item X   \n",
      "\n",
      "   Inventory Level  Lead Time (days) Transport Status  News Sentiment  \\\n",
      "0             4401                 3          Delayed        0.027551   \n",
      "1               88                19          Delayed        0.672653   \n",
      "2             1780                 2        Delivered        0.200830   \n",
      "3             3480                 9        Delivered       -0.461069   \n",
      "4             3977                 6        Delivered       -0.615187   \n",
      "\n",
      "   Risk Factor  Transport Status Sentiment News Sentiment Category  \n",
      "0     0.053238                          -1                Positive  \n",
      "1     0.029133                          -1                Positive  \n",
      "2     0.020455                           1                Positive  \n",
      "3     0.786145                           1                Negative  \n",
      "4     0.778914                           1                Negative  \n"
     ]
    }
   ],
   "source": [
    "# Import necessary libraries\n",
    "import pandas as pd\n",
    "from textblob import TextBlob\n",
    "\n",
    "# Step 1: Load the dataset\n",
    "file_name = 'supply_chain_sample_data.csv'  # Use the file name directly if you're in the correct folder\n",
    "df = pd.read_csv(file_name)\n",
    "\n",
    "# Step 2: Perform Sentiment Analysis on 'Transport Status'\n",
    "def get_transport_sentiment(transport_status):\n",
    "    # Assign sentiment values based on transport status\n",
    "    sentiment_map = {\n",
    "        'Delayed': -1,     # Negative sentiment\n",
    "        'Delivered': 1,    # Positive sentiment\n",
    "        'In Transit': 0,   # Neutral sentiment\n",
    "        'On Time': 1,      # Positive sentiment\n",
    "        'Pending': 0       # Neutral sentiment\n",
    "    }\n",
    "    return sentiment_map.get(transport_status, 0)  # Default to neutral (0) if not found\n",
    "\n",
    "# Apply sentiment analysis to the 'Transport Status' column\n",
    "df['Transport Status Sentiment'] = df['Transport Status'].apply(get_transport_sentiment)\n",
    "\n",
    "# Step 3: Perform Sentiment Analysis on 'News Sentiment'\n",
    "def get_news_sentiment(sentiment_score):\n",
    "    # Ensure that exactly 0 is treated as Neutral, positive as Positive, and negative as Negative\n",
    "    if sentiment_score > 0:\n",
    "        return 'Positive'\n",
    "    elif sentiment_score < 0:\n",
    "        return 'Negative'\n",
    "    else:\n",
    "        return 'Neutral'  # Explicitly check for 0 and treat as Neutral\n",
    "\n",
    "# Apply sentiment analysis to the 'News Sentiment' column\n",
    "df['News Sentiment Category'] = df['News Sentiment'].apply(get_news_sentiment)\n",
    "\n",
    "# Step 4: Save the updated dataset\n",
    "updated_file_name = 'updated_supply_chain_sample_data.csv'  # Save with a new file name in the same folder\n",
    "df.to_csv(updated_file_name, index=False)\n",
    "\n",
    "# Display the updated data\n",
    "print(df.head())\n"
   ]
  },
  {
   "cell_type": "code",
   "execution_count": 18,
   "id": "1e4a7358-72e3-40e6-9b72-d5a539a88104",
   "metadata": {},
   "outputs": [
    {
     "name": "stdout",
     "output_type": "stream",
     "text": [
      "                  Date         Region       Country    Supplier    Item  \\\n",
      "0  2020-01-01 00:00:00  North America           USA  Supplier B  Item Z   \n",
      "1  2020-01-01 00:01:00  South America  South Africa  Supplier E  Item W   \n",
      "2  2020-01-01 00:02:00  South America           USA  Supplier B  Item Y   \n",
      "3  2020-01-01 00:03:00           Asia       Germany  Supplier D  Item Y   \n",
      "4  2020-01-01 00:04:00           Asia       Germany  Supplier B  Item X   \n",
      "\n",
      "   Inventory Level  Lead Time (days) Transport Status  News Sentiment  \\\n",
      "0             4401                 3          Delayed        0.027551   \n",
      "1               88                19          Delayed        0.672653   \n",
      "2             1780                 2        Delivered        0.200830   \n",
      "3             3480                 9        Delivered       -0.461069   \n",
      "4             3977                 6        Delivered       -0.615187   \n",
      "\n",
      "   Risk Factor  Transport Status Sentiment News Sentiment Category  \n",
      "0     0.053238                          -1                Positive  \n",
      "1     0.029133                          -1                Positive  \n",
      "2     0.020455                           1                Positive  \n",
      "3     0.786145                           1                Negative  \n",
      "4     0.778914                           1                Negative  \n"
     ]
    }
   ],
   "source": [
    "# Import necessary libraries\n",
    "import pandas as pd\n",
    "from textblob import TextBlob\n",
    "\n",
    "# Step 1: Load the dataset\n",
    "file_name = 'supply_chain_sample_data.csv'  # Use the file name directly if you're in the correct folder\n",
    "df = pd.read_csv(file_name)\n",
    "\n",
    "# Step 2: Perform Sentiment Analysis on 'Transport Status'\n",
    "def get_transport_sentiment(transport_status):\n",
    "    # Assign sentiment values based on transport status\n",
    "    sentiment_map = {\n",
    "        'Delayed': -1,     # Negative sentiment\n",
    "        'Delivered': 1,    # Positive sentiment\n",
    "        'In Transit': 0,   # Neutral sentiment\n",
    "        'On Time': 1,      # Positive sentiment\n",
    "        'Pending': 0       # Neutral sentiment\n",
    "    }\n",
    "    return sentiment_map.get(transport_status, 0)  # Default to neutral (0) if not found\n",
    "\n",
    "# Apply sentiment analysis to the 'Transport Status' column\n",
    "df['Transport Status Sentiment'] = df['Transport Status'].apply(get_transport_sentiment)\n",
    "\n",
    "# Step 3: Perform Sentiment Analysis on 'News Sentiment'\n",
    "def get_news_sentiment(sentiment_score):\n",
    "    # Ensure that exactly 0 is treated as Neutral, positive as Positive, and negative as Negative\n",
    "    if sentiment_score > 0:\n",
    "        return 'Positive'\n",
    "    elif sentiment_score < 0:\n",
    "        return 'Negative'\n",
    "    else:\n",
    "        return 'Neutral'  # Explicitly check for 0 and treat as Neutral\n",
    "\n",
    "# Apply sentiment analysis to the 'News Sentiment' column\n",
    "df['News Sentiment Category'] = df['News Sentiment'].apply(get_news_sentiment)\n",
    "\n",
    "# Step 4: Save the updated dataset\n",
    "updated_file_name = 'updated_supply_chain_sample_data.csv'  # Save with a new file name in the same folder\n",
    "df.to_csv(updated_file_name, index=False)\n",
    "\n",
    "# Display the updated data\n",
    "print(df.head())\n"
   ]
  },
  {
   "cell_type": "code",
   "execution_count": 19,
   "id": "cb63f1db-3991-47e9-9d27-cfe3254d5fd3",
   "metadata": {},
   "outputs": [
    {
     "name": "stdout",
     "output_type": "stream",
     "text": [
      "  Transport Status  Transport Status Sentiment\n",
      "0          Delayed                          -1\n",
      "1          Delayed                          -1\n",
      "2        Delivered                           1\n",
      "3        Delivered                           1\n",
      "4        Delivered                           1\n"
     ]
    }
   ],
   "source": [
    "# Import necessary libraries\n",
    "import pandas as pd\n",
    "\n",
    "# Step 1: Load the dataset\n",
    "file_name = 'supply_chain_sample_data.csv'  # Use the file name directly if you're in the correct folder\n",
    "df = pd.read_csv(file_name)\n",
    "\n",
    "# Step 2: Perform Sentiment Analysis on 'Transport Status'\n",
    "def get_transport_sentiment(transport_status):\n",
    "    # Assign sentiment values based on transport status\n",
    "    sentiment_map = {\n",
    "        'Delayed': -1,     # Negative sentiment\n",
    "        'Delivered': 1,    # Positive sentiment\n",
    "        'In Transit': 0,   # Neutral sentiment\n",
    "        'On Time': 1,      # Positive sentiment\n",
    "        'Pending': 0       # Neutral sentiment\n",
    "    }\n",
    "    return sentiment_map.get(transport_status, 0)  # Default to neutral (0) if not found\n",
    "\n",
    "# Apply sentiment analysis to the 'Transport Status' column\n",
    "df['Transport Status Sentiment'] = df['Transport Status'].apply(get_transport_sentiment)\n",
    "\n",
    "# Step 3: Save the updated dataset with only 'Transport Status Sentiment'\n",
    "updated_file_name = 'updated_supply_chain_sample_data_step1.csv'  # Save with a new file name\n",
    "df.to_csv(updated_file_name, index=False)\n",
    "\n",
    "# Display the updated data\n",
    "print(df[['Transport Status', 'Transport Status Sentiment']].head())\n"
   ]
  },
  {
   "cell_type": "code",
   "execution_count": 25,
   "id": "1bb3b3fd-2734-4564-8d5d-de5aaf18bd60",
   "metadata": {},
   "outputs": [
    {
     "name": "stdout",
     "output_type": "stream",
     "text": [
      "       Inventory Level  Lead Time (days)  News Sentiment   Risk Factor  \\\n",
      "count   1000000.000000    1000000.000000  1000000.000000  1.000000e+06   \n",
      "mean       2499.151282         15.481496        0.001067  5.002598e-01   \n",
      "std        1443.037447          8.658631        0.577354  2.887529e-01   \n",
      "min           0.000000          1.000000       -0.999996  9.759363e-07   \n",
      "25%        1250.000000          8.000000       -0.499104  2.502271e-01   \n",
      "50%        2497.000000         15.000000        0.001669  5.003248e-01   \n",
      "75%        3750.000000         23.000000        0.501117  7.506510e-01   \n",
      "max        5000.000000         30.000000        0.999996  9.999982e-01   \n",
      "\n",
      "       Transport Status Sentiment  \n",
      "count              1000000.000000  \n",
      "mean                     0.199959  \n",
      "std                      0.748290  \n",
      "min                     -1.000000  \n",
      "25%                      0.000000  \n",
      "50%                      0.000000  \n",
      "75%                      1.000000  \n",
      "max                      1.000000  \n"
     ]
    },
    {
     "ename": "ValueError",
     "evalue": "could not convert string to float: '2020-01-01 00:00:00'",
     "output_type": "error",
     "traceback": [
      "\u001b[1;31m---------------------------------------------------------------------------\u001b[0m",
      "\u001b[1;31mValueError\u001b[0m                                Traceback (most recent call last)",
      "Cell \u001b[1;32mIn[25], line 5\u001b[0m\n\u001b[0;32m      2\u001b[0m \u001b[38;5;28mprint\u001b[39m(df\u001b[38;5;241m.\u001b[39mdescribe())\n\u001b[0;32m      4\u001b[0m \u001b[38;5;66;03m# Correlation analysis\u001b[39;00m\n\u001b[1;32m----> 5\u001b[0m correlation \u001b[38;5;241m=\u001b[39m \u001b[43mdf\u001b[49m\u001b[38;5;241;43m.\u001b[39;49m\u001b[43mcorr\u001b[49m\u001b[43m(\u001b[49m\u001b[43m)\u001b[49m\n\u001b[0;32m      6\u001b[0m \u001b[38;5;28mprint\u001b[39m(correlation)\n",
      "File \u001b[1;32m~\\AppData\\Local\\Programs\\Python\\Python39\\lib\\site-packages\\pandas\\core\\frame.py:11049\u001b[0m, in \u001b[0;36mDataFrame.corr\u001b[1;34m(self, method, min_periods, numeric_only)\u001b[0m\n\u001b[0;32m  11047\u001b[0m cols \u001b[38;5;241m=\u001b[39m data\u001b[38;5;241m.\u001b[39mcolumns\n\u001b[0;32m  11048\u001b[0m idx \u001b[38;5;241m=\u001b[39m cols\u001b[38;5;241m.\u001b[39mcopy()\n\u001b[1;32m> 11049\u001b[0m mat \u001b[38;5;241m=\u001b[39m \u001b[43mdata\u001b[49m\u001b[38;5;241;43m.\u001b[39;49m\u001b[43mto_numpy\u001b[49m\u001b[43m(\u001b[49m\u001b[43mdtype\u001b[49m\u001b[38;5;241;43m=\u001b[39;49m\u001b[38;5;28;43mfloat\u001b[39;49m\u001b[43m,\u001b[49m\u001b[43m \u001b[49m\u001b[43mna_value\u001b[49m\u001b[38;5;241;43m=\u001b[39;49m\u001b[43mnp\u001b[49m\u001b[38;5;241;43m.\u001b[39;49m\u001b[43mnan\u001b[49m\u001b[43m,\u001b[49m\u001b[43m \u001b[49m\u001b[43mcopy\u001b[49m\u001b[38;5;241;43m=\u001b[39;49m\u001b[38;5;28;43;01mFalse\u001b[39;49;00m\u001b[43m)\u001b[49m\n\u001b[0;32m  11051\u001b[0m \u001b[38;5;28;01mif\u001b[39;00m method \u001b[38;5;241m==\u001b[39m \u001b[38;5;124m\"\u001b[39m\u001b[38;5;124mpearson\u001b[39m\u001b[38;5;124m\"\u001b[39m:\n\u001b[0;32m  11052\u001b[0m     correl \u001b[38;5;241m=\u001b[39m libalgos\u001b[38;5;241m.\u001b[39mnancorr(mat, minp\u001b[38;5;241m=\u001b[39mmin_periods)\n",
      "File \u001b[1;32m~\\AppData\\Local\\Programs\\Python\\Python39\\lib\\site-packages\\pandas\\core\\frame.py:1993\u001b[0m, in \u001b[0;36mDataFrame.to_numpy\u001b[1;34m(self, dtype, copy, na_value)\u001b[0m\n\u001b[0;32m   1991\u001b[0m \u001b[38;5;28;01mif\u001b[39;00m dtype \u001b[38;5;129;01mis\u001b[39;00m \u001b[38;5;129;01mnot\u001b[39;00m \u001b[38;5;28;01mNone\u001b[39;00m:\n\u001b[0;32m   1992\u001b[0m     dtype \u001b[38;5;241m=\u001b[39m np\u001b[38;5;241m.\u001b[39mdtype(dtype)\n\u001b[1;32m-> 1993\u001b[0m result \u001b[38;5;241m=\u001b[39m \u001b[38;5;28;43mself\u001b[39;49m\u001b[38;5;241;43m.\u001b[39;49m\u001b[43m_mgr\u001b[49m\u001b[38;5;241;43m.\u001b[39;49m\u001b[43mas_array\u001b[49m\u001b[43m(\u001b[49m\u001b[43mdtype\u001b[49m\u001b[38;5;241;43m=\u001b[39;49m\u001b[43mdtype\u001b[49m\u001b[43m,\u001b[49m\u001b[43m \u001b[49m\u001b[43mcopy\u001b[49m\u001b[38;5;241;43m=\u001b[39;49m\u001b[43mcopy\u001b[49m\u001b[43m,\u001b[49m\u001b[43m \u001b[49m\u001b[43mna_value\u001b[49m\u001b[38;5;241;43m=\u001b[39;49m\u001b[43mna_value\u001b[49m\u001b[43m)\u001b[49m\n\u001b[0;32m   1994\u001b[0m \u001b[38;5;28;01mif\u001b[39;00m result\u001b[38;5;241m.\u001b[39mdtype \u001b[38;5;129;01mis\u001b[39;00m \u001b[38;5;129;01mnot\u001b[39;00m dtype:\n\u001b[0;32m   1995\u001b[0m     result \u001b[38;5;241m=\u001b[39m np\u001b[38;5;241m.\u001b[39masarray(result, dtype\u001b[38;5;241m=\u001b[39mdtype)\n",
      "File \u001b[1;32m~\\AppData\\Local\\Programs\\Python\\Python39\\lib\\site-packages\\pandas\\core\\internals\\managers.py:1694\u001b[0m, in \u001b[0;36mBlockManager.as_array\u001b[1;34m(self, dtype, copy, na_value)\u001b[0m\n\u001b[0;32m   1692\u001b[0m         arr\u001b[38;5;241m.\u001b[39mflags\u001b[38;5;241m.\u001b[39mwriteable \u001b[38;5;241m=\u001b[39m \u001b[38;5;28;01mFalse\u001b[39;00m\n\u001b[0;32m   1693\u001b[0m \u001b[38;5;28;01melse\u001b[39;00m:\n\u001b[1;32m-> 1694\u001b[0m     arr \u001b[38;5;241m=\u001b[39m \u001b[38;5;28;43mself\u001b[39;49m\u001b[38;5;241;43m.\u001b[39;49m\u001b[43m_interleave\u001b[49m\u001b[43m(\u001b[49m\u001b[43mdtype\u001b[49m\u001b[38;5;241;43m=\u001b[39;49m\u001b[43mdtype\u001b[49m\u001b[43m,\u001b[49m\u001b[43m \u001b[49m\u001b[43mna_value\u001b[49m\u001b[38;5;241;43m=\u001b[39;49m\u001b[43mna_value\u001b[49m\u001b[43m)\u001b[49m\n\u001b[0;32m   1695\u001b[0m     \u001b[38;5;66;03m# The underlying data was copied within _interleave, so no need\u001b[39;00m\n\u001b[0;32m   1696\u001b[0m     \u001b[38;5;66;03m# to further copy if copy=True or setting na_value\u001b[39;00m\n\u001b[0;32m   1698\u001b[0m \u001b[38;5;28;01mif\u001b[39;00m na_value \u001b[38;5;129;01mis\u001b[39;00m lib\u001b[38;5;241m.\u001b[39mno_default:\n",
      "File \u001b[1;32m~\\AppData\\Local\\Programs\\Python\\Python39\\lib\\site-packages\\pandas\\core\\internals\\managers.py:1753\u001b[0m, in \u001b[0;36mBlockManager._interleave\u001b[1;34m(self, dtype, na_value)\u001b[0m\n\u001b[0;32m   1751\u001b[0m     \u001b[38;5;28;01melse\u001b[39;00m:\n\u001b[0;32m   1752\u001b[0m         arr \u001b[38;5;241m=\u001b[39m blk\u001b[38;5;241m.\u001b[39mget_values(dtype)\n\u001b[1;32m-> 1753\u001b[0m     \u001b[43mresult\u001b[49m\u001b[43m[\u001b[49m\u001b[43mrl\u001b[49m\u001b[38;5;241;43m.\u001b[39;49m\u001b[43mindexer\u001b[49m\u001b[43m]\u001b[49m \u001b[38;5;241m=\u001b[39m arr\n\u001b[0;32m   1754\u001b[0m     itemmask[rl\u001b[38;5;241m.\u001b[39mindexer] \u001b[38;5;241m=\u001b[39m \u001b[38;5;241m1\u001b[39m\n\u001b[0;32m   1756\u001b[0m \u001b[38;5;28;01mif\u001b[39;00m \u001b[38;5;129;01mnot\u001b[39;00m itemmask\u001b[38;5;241m.\u001b[39mall():\n",
      "\u001b[1;31mValueError\u001b[0m: could not convert string to float: '2020-01-01 00:00:00'"
     ]
    }
   ],
   "source": [
    "# Summary statistics\n",
    "print(df.describe())\n",
    "\n",
    "# Correlation analysis\n",
    "correlation = df.corr()\n",
    "print(correlation)\n"
   ]
  },
  {
   "cell_type": "code",
   "execution_count": 26,
   "id": "9cf975f1-e599-4750-aff3-80e8b0380313",
   "metadata": {},
   "outputs": [
    {
     "name": "stdout",
     "output_type": "stream",
     "text": [
      "                            Inventory Level  Lead Time (days)  News Sentiment  \\\n",
      "Inventory Level                    1.000000          0.000231       -0.000756   \n",
      "Lead Time (days)                   0.000231          1.000000       -0.000689   \n",
      "News Sentiment                    -0.000756         -0.000689        1.000000   \n",
      "Risk Factor                        0.000642         -0.001382        0.000344   \n",
      "Transport Status Sentiment        -0.000483          0.000587       -0.001028   \n",
      "\n",
      "                            Risk Factor  Transport Status Sentiment  \n",
      "Inventory Level                0.000642                   -0.000483  \n",
      "Lead Time (days)              -0.001382                    0.000587  \n",
      "News Sentiment                 0.000344                   -0.001028  \n",
      "Risk Factor                    1.000000                   -0.001326  \n",
      "Transport Status Sentiment    -0.001326                    1.000000  \n"
     ]
    }
   ],
   "source": [
    "# Select only numeric columns for correlation\n",
    "numeric_columns = df.select_dtypes(include=['float64', 'int64']).columns\n",
    "\n",
    "# Calculate correlation matrix for numeric columns\n",
    "correlation = df[numeric_columns].corr()\n",
    "\n",
    "# Display the correlation matrix\n",
    "print(correlation)\n"
   ]
  },
  {
   "cell_type": "code",
   "execution_count": 28,
   "id": "cf951775-5595-4442-bb37-239211f1362a",
   "metadata": {},
   "outputs": [
    {
     "name": "stdout",
     "output_type": "stream",
     "text": [
      "Collecting seaborn\n",
      "  Using cached seaborn-0.13.2-py3-none-any.whl.metadata (5.4 kB)\n",
      "Collecting matplotlib\n",
      "  Downloading matplotlib-3.9.4-cp39-cp39-win_amd64.whl.metadata (11 kB)\n",
      "Requirement already satisfied: numpy!=1.24.0,>=1.20 in c:\\users\\lenovo\\appdata\\local\\programs\\python\\python39\\lib\\site-packages (from seaborn) (2.0.2)\n",
      "Requirement already satisfied: pandas>=1.2 in c:\\users\\lenovo\\appdata\\local\\programs\\python\\python39\\lib\\site-packages (from seaborn) (2.2.3)\n",
      "Collecting contourpy>=1.0.1 (from matplotlib)\n",
      "  Downloading contourpy-1.3.0-cp39-cp39-win_amd64.whl.metadata (5.4 kB)\n",
      "Collecting cycler>=0.10 (from matplotlib)\n",
      "  Using cached cycler-0.12.1-py3-none-any.whl.metadata (3.8 kB)\n",
      "Collecting fonttools>=4.22.0 (from matplotlib)\n",
      "  Downloading fonttools-4.55.3-cp39-cp39-win_amd64.whl.metadata (168 kB)\n",
      "Collecting kiwisolver>=1.3.1 (from matplotlib)\n",
      "  Downloading kiwisolver-1.4.7-cp39-cp39-win_amd64.whl.metadata (6.4 kB)\n",
      "Requirement already satisfied: packaging>=20.0 in c:\\users\\lenovo\\appdata\\local\\programs\\python\\python39\\lib\\site-packages (from matplotlib) (24.2)\n",
      "Collecting pillow>=8 (from matplotlib)\n",
      "  Downloading pillow-11.0.0-cp39-cp39-win_amd64.whl.metadata (9.3 kB)\n",
      "Collecting pyparsing>=2.3.1 (from matplotlib)\n",
      "  Using cached pyparsing-3.2.0-py3-none-any.whl.metadata (5.0 kB)\n",
      "Requirement already satisfied: python-dateutil>=2.7 in c:\\users\\lenovo\\appdata\\local\\programs\\python\\python39\\lib\\site-packages (from matplotlib) (2.9.0.post0)\n",
      "Collecting importlib-resources>=3.2.0 (from matplotlib)\n",
      "  Downloading importlib_resources-6.4.5-py3-none-any.whl.metadata (4.0 kB)\n",
      "Requirement already satisfied: zipp>=3.1.0 in c:\\users\\lenovo\\appdata\\local\\programs\\python\\python39\\lib\\site-packages (from importlib-resources>=3.2.0->matplotlib) (3.21.0)\n",
      "Requirement already satisfied: pytz>=2020.1 in c:\\users\\lenovo\\appdata\\local\\programs\\python\\python39\\lib\\site-packages (from pandas>=1.2->seaborn) (2024.2)\n",
      "Requirement already satisfied: tzdata>=2022.7 in c:\\users\\lenovo\\appdata\\local\\programs\\python\\python39\\lib\\site-packages (from pandas>=1.2->seaborn) (2024.2)\n",
      "Requirement already satisfied: six>=1.5 in c:\\users\\lenovo\\appdata\\local\\programs\\python\\python39\\lib\\site-packages (from python-dateutil>=2.7->matplotlib) (1.17.0)\n",
      "Using cached seaborn-0.13.2-py3-none-any.whl (294 kB)\n",
      "Downloading matplotlib-3.9.4-cp39-cp39-win_amd64.whl (7.8 MB)\n",
      "   ---------------------------------------- 0.0/7.8 MB ? eta -:--:--\n",
      "   - -------------------------------------- 0.3/7.8 MB ? eta -:--:--\n",
      "   ----- ---------------------------------- 1.0/7.8 MB 2.4 MB/s eta 0:00:03\n",
      "   -------- ------------------------------- 1.6/7.8 MB 2.5 MB/s eta 0:00:03\n",
      "   ---------- ----------------------------- 2.1/7.8 MB 2.3 MB/s eta 0:00:03\n",
      "   -------------- ------------------------- 2.9/7.8 MB 2.5 MB/s eta 0:00:02\n",
      "   ------------------ --------------------- 3.7/7.8 MB 2.8 MB/s eta 0:00:02\n",
      "   ---------------------- ----------------- 4.5/7.8 MB 2.9 MB/s eta 0:00:02\n",
      "   ---------------------------- ----------- 5.5/7.8 MB 3.2 MB/s eta 0:00:01\n",
      "   --------------------------------- ------ 6.6/7.8 MB 3.4 MB/s eta 0:00:01\n",
      "   ------------------------------------- -- 7.3/7.8 MB 3.4 MB/s eta 0:00:01\n",
      "   ---------------------------------------- 7.8/7.8 MB 3.4 MB/s eta 0:00:00\n",
      "Downloading contourpy-1.3.0-cp39-cp39-win_amd64.whl (211 kB)\n",
      "Using cached cycler-0.12.1-py3-none-any.whl (8.3 kB)\n",
      "Downloading fonttools-4.55.3-cp39-cp39-win_amd64.whl (2.2 MB)\n",
      "   ---------------------------------------- 0.0/2.2 MB ? eta -:--:--\n",
      "   ------------------ --------------------- 1.0/2.2 MB 5.6 MB/s eta 0:00:01\n",
      "   ---------------------------------------- 2.2/2.2 MB 5.7 MB/s eta 0:00:00\n",
      "Downloading importlib_resources-6.4.5-py3-none-any.whl (36 kB)\n",
      "Downloading kiwisolver-1.4.7-cp39-cp39-win_amd64.whl (55 kB)\n",
      "Downloading pillow-11.0.0-cp39-cp39-win_amd64.whl (2.6 MB)\n",
      "   ---------------------------------------- 0.0/2.6 MB ? eta -:--:--\n",
      "   -------- ------------------------------- 0.5/2.6 MB 1.9 MB/s eta 0:00:02\n",
      "   -------------------- ------------------- 1.3/2.6 MB 3.4 MB/s eta 0:00:01\n",
      "   ------------------------------------ --- 2.4/2.6 MB 3.8 MB/s eta 0:00:01\n",
      "   ---------------------------------------- 2.6/2.6 MB 3.9 MB/s eta 0:00:00\n",
      "Using cached pyparsing-3.2.0-py3-none-any.whl (106 kB)\n",
      "Installing collected packages: pyparsing, pillow, kiwisolver, importlib-resources, fonttools, cycler, contourpy, matplotlib, seaborn\n",
      "Successfully installed contourpy-1.3.0 cycler-0.12.1 fonttools-4.55.3 importlib-resources-6.4.5 kiwisolver-1.4.7 matplotlib-3.9.4 pillow-11.0.0 pyparsing-3.2.0 seaborn-0.13.2\n",
      "Note: you may need to restart the kernel to use updated packages.\n"
     ]
    }
   ],
   "source": [
    "pip install seaborn matplotlib\n"
   ]
  },
  {
   "cell_type": "code",
   "execution_count": 30,
   "id": "afa60277-2b55-4a56-b7b8-cca4f307bb2b",
   "metadata": {},
   "outputs": [
    {
     "data": {
      "image/png": "[encoded data removed]",
      "text/plain": [
       "<Figure size 1000x600 with 2 Axes>"
      ]
     },
     "metadata": {},
     "output_type": "display_data"
    }
   ],
   "source": [
    "import seaborn as sns\n",
    "import matplotlib.pyplot as plt\n",
    "\n",
    "# Exclude non-numeric columns before calculating correlation\n",
    "numeric_df = df.select_dtypes(include=['number'])\n",
    "\n",
    "# Plotting the correlation matrix as a heatmap\n",
    "plt.figure(figsize=(10, 6))\n",
    "sns.heatmap(numeric_df.corr(), annot=True, cmap='coolwarm', fmt='.2f', linewidths=0.5)\n",
    "plt.title('Correlation Matrix Heatmap')\n",
    "plt.show()\n"
   ]
  },
  {
   "cell_type": "code",
   "execution_count": 31,
   "id": "df07a579-f25e-4b28-8d95-b88dd8cd0728",
   "metadata": {},
   "outputs": [
    {
     "ename": "SyntaxError",
     "evalue": "invalid syntax (3498471039.py, line 1)",
     "output_type": "error",
     "traceback": [
      "\u001b[1;36m  Cell \u001b[1;32mIn[31], line 1\u001b[1;36m\u001b[0m\n\u001b[1;33m    pip install openai\u001b[0m\n\u001b[1;37m        ^\u001b[0m\n\u001b[1;31mSyntaxError\u001b[0m\u001b[1;31m:\u001b[0m invalid syntax\n"
     ]
    }
   ],
   "source": [
    "pip install openai\n",
    "\n"
   ]
  },
  {
   "cell_type": "code",
   "execution_count": 32,
   "id": "741cbd24-f0e3-43b5-967c-28b9c3c67ecf",
   "metadata": {},
   "outputs": [
    {
     "name": "stdout",
     "output_type": "stream",
     "text": [
      "Collecting openai\n",
      "  Downloading openai-1.57.4-py3-none-any.whl.metadata (24 kB)\n",
      "Requirement already satisfied: anyio<5,>=3.5.0 in c:\\users\\lenovo\\appdata\\local\\programs\\python\\python39\\lib\\site-packages (from openai) (4.7.0)\n",
      "Collecting distro<2,>=1.7.0 (from openai)\n",
      "  Using cached distro-1.9.0-py3-none-any.whl.metadata (6.8 kB)\n",
      "Requirement already satisfied: httpx<1,>=0.23.0 in c:\\users\\lenovo\\appdata\\local\\programs\\python\\python39\\lib\\site-packages (from openai) (0.28.1)\n",
      "Collecting jiter<1,>=0.4.0 (from openai)\n",
      "  Downloading jiter-0.8.2-cp39-cp39-win_amd64.whl.metadata (5.3 kB)\n",
      "Collecting pydantic<3,>=1.9.0 (from openai)\n",
      "  Using cached pydantic-2.10.3-py3-none-any.whl.metadata (172 kB)\n",
      "Requirement already satisfied: sniffio in c:\\users\\lenovo\\appdata\\local\\programs\\python\\python39\\lib\\site-packages (from openai) (1.3.1)\n",
      "Requirement already satisfied: tqdm>4 in c:\\users\\lenovo\\appdata\\local\\programs\\python\\python39\\lib\\site-packages (from openai) (4.67.1)\n",
      "Requirement already satisfied: typing-extensions<5,>=4.11 in c:\\users\\lenovo\\appdata\\local\\programs\\python\\python39\\lib\\site-packages (from openai) (4.12.2)\n",
      "Requirement already satisfied: exceptiongroup>=1.0.2 in c:\\users\\lenovo\\appdata\\local\\programs\\python\\python39\\lib\\site-packages (from anyio<5,>=3.5.0->openai) (1.2.2)\n",
      "Requirement already satisfied: idna>=2.8 in c:\\users\\lenovo\\appdata\\local\\programs\\python\\python39\\lib\\site-packages (from anyio<5,>=3.5.0->openai) (3.10)\n",
      "Requirement already satisfied: certifi in c:\\users\\lenovo\\appdata\\local\\programs\\python\\python39\\lib\\site-packages (from httpx<1,>=0.23.0->openai) (2024.8.30)\n",
      "Requirement already satisfied: httpcore==1.* in c:\\users\\lenovo\\appdata\\local\\programs\\python\\python39\\lib\\site-packages (from httpx<1,>=0.23.0->openai) (1.0.7)\n",
      "Requirement already satisfied: h11<0.15,>=0.13 in c:\\users\\lenovo\\appdata\\local\\programs\\python\\python39\\lib\\site-packages (from httpcore==1.*->httpx<1,>=0.23.0->openai) (0.14.0)\n",
      "Collecting annotated-types>=0.6.0 (from pydantic<3,>=1.9.0->openai)\n",
      "  Using cached annotated_types-0.7.0-py3-none-any.whl.metadata (15 kB)\n",
      "Collecting pydantic-core==2.27.1 (from pydantic<3,>=1.9.0->openai)\n",
      "  Downloading pydantic_core-2.27.1-cp39-none-win_amd64.whl.metadata (6.7 kB)\n",
      "Requirement already satisfied: colorama in c:\\users\\lenovo\\appdata\\local\\programs\\python\\python39\\lib\\site-packages (from tqdm>4->openai) (0.4.6)\n",
      "Downloading openai-1.57.4-py3-none-any.whl (390 kB)\n",
      "Using cached distro-1.9.0-py3-none-any.whl (20 kB)\n",
      "Downloading jiter-0.8.2-cp39-cp39-win_amd64.whl (207 kB)\n",
      "Using cached pydantic-2.10.3-py3-none-any.whl (456 kB)\n",
      "Downloading pydantic_core-2.27.1-cp39-none-win_amd64.whl (2.0 MB)\n",
      "   ---------------------------------------- 0.0/2.0 MB ? eta -:--:--\n",
      "   ----- ---------------------------------- 0.3/2.0 MB ? eta -:--:--\n",
      "   --------------- ------------------------ 0.8/2.0 MB 2.1 MB/s eta 0:00:01\n",
      "   -------------------------- ------------- 1.3/2.0 MB 2.3 MB/s eta 0:00:01\n",
      "   ---------------------------------------- 2.0/2.0 MB 2.6 MB/s eta 0:00:00\n",
      "Using cached annotated_types-0.7.0-py3-none-any.whl (13 kB)\n",
      "Installing collected packages: pydantic-core, jiter, distro, annotated-types, pydantic, openai\n",
      "Successfully installed annotated-types-0.7.0 distro-1.9.0 jiter-0.8.2 openai-1.57.4 pydantic-2.10.3 pydantic-core-2.27.1\n",
      "Note: you may need to restart the kernel to use updated packages.\n"
     ]
    }
   ],
   "source": [
    "pip install openai"
   ]
  },
  {
   "cell_type": "code",
   "execution_count": 34,
   "id": "50438dd3-dd1c-4c30-be10-58439e887f56",
   "metadata": {},
   "outputs": [
    {
     "name": "stdout",
     "output_type": "stream",
     "text": [
      "Requirement already satisfied: openai in c:\\users\\lenovo\\appdata\\local\\programs\\python\\python39\\lib\\site-packages (1.57.4)Note: you may need to restart the kernel to use updated packages.\n",
      "\n",
      "Requirement already satisfied: anyio<5,>=3.5.0 in c:\\users\\lenovo\\appdata\\local\\programs\\python\\python39\\lib\\site-packages (from openai) (4.7.0)\n",
      "Requirement already satisfied: distro<2,>=1.7.0 in c:\\users\\lenovo\\appdata\\local\\programs\\python\\python39\\lib\\site-packages (from openai) (1.9.0)\n",
      "Requirement already satisfied: httpx<1,>=0.23.0 in c:\\users\\lenovo\\appdata\\local\\programs\\python\\python39\\lib\\site-packages (from openai) (0.28.1)\n",
      "Requirement already satisfied: jiter<1,>=0.4.0 in c:\\users\\lenovo\\appdata\\local\\programs\\python\\python39\\lib\\site-packages (from openai) (0.8.2)\n",
      "Requirement already satisfied: pydantic<3,>=1.9.0 in c:\\users\\lenovo\\appdata\\local\\programs\\python\\python39\\lib\\site-packages (from openai) (2.10.3)\n",
      "Requirement already satisfied: sniffio in c:\\users\\lenovo\\appdata\\local\\programs\\python\\python39\\lib\\site-packages (from openai) (1.3.1)\n",
      "Requirement already satisfied: tqdm>4 in c:\\users\\lenovo\\appdata\\local\\programs\\python\\python39\\lib\\site-packages (from openai) (4.67.1)\n",
      "Requirement already satisfied: typing-extensions<5,>=4.11 in c:\\users\\lenovo\\appdata\\local\\programs\\python\\python39\\lib\\site-packages (from openai) (4.12.2)\n",
      "Requirement already satisfied: exceptiongroup>=1.0.2 in c:\\users\\lenovo\\appdata\\local\\programs\\python\\python39\\lib\\site-packages (from anyio<5,>=3.5.0->openai) (1.2.2)\n",
      "Requirement already satisfied: idna>=2.8 in c:\\users\\lenovo\\appdata\\local\\programs\\python\\python39\\lib\\site-packages (from anyio<5,>=3.5.0->openai) (3.10)\n",
      "Requirement already satisfied: certifi in c:\\users\\lenovo\\appdata\\local\\programs\\python\\python39\\lib\\site-packages (from httpx<1,>=0.23.0->openai) (2024.8.30)\n",
      "Requirement already satisfied: httpcore==1.* in c:\\users\\lenovo\\appdata\\local\\programs\\python\\python39\\lib\\site-packages (from httpx<1,>=0.23.0->openai) (1.0.7)\n",
      "Requirement already satisfied: h11<0.15,>=0.13 in c:\\users\\lenovo\\appdata\\local\\programs\\python\\python39\\lib\\site-packages (from httpcore==1.*->httpx<1,>=0.23.0->openai) (0.14.0)\n",
      "Requirement already satisfied: annotated-types>=0.6.0 in c:\\users\\lenovo\\appdata\\local\\programs\\python\\python39\\lib\\site-packages (from pydantic<3,>=1.9.0->openai) (0.7.0)\n",
      "Requirement already satisfied: pydantic-core==2.27.1 in c:\\users\\lenovo\\appdata\\local\\programs\\python\\python39\\lib\\site-packages (from pydantic<3,>=1.9.0->openai) (2.27.1)\n",
      "Requirement already satisfied: colorama in c:\\users\\lenovo\\appdata\\local\\programs\\python\\python39\\lib\\site-packages (from tqdm>4->openai) (0.4.6)\n"
     ]
    }
   ],
   "source": [
    "pip install --upgrade openai"
   ]
  },
  {
   "cell_type": "code",
   "execution_count": 38,
   "id": "e4be0a68-3e24-4949-ac87-c802b32eead5",
   "metadata": {},
   "outputs": [
    {
     "name": "stdout",
     "output_type": "stream",
     "text": [
      "Collecting openai==0.28\n",
      "  Downloading openai-0.28.0-py3-none-any.whl.metadata (13 kB)\n",
      "Requirement already satisfied: requests>=2.20 in c:\\users\\lenovo\\appdata\\local\\programs\\python\\python39\\lib\\site-packages (from openai==0.28) (2.32.3)\n",
      "Requirement already satisfied: tqdm in c:\\users\\lenovo\\appdata\\local\\programs\\python\\python39\\lib\\site-packages (from openai==0.28) (4.67.1)\n",
      "Collecting aiohttp (from openai==0.28)\n",
      "  Downloading aiohttp-3.11.10-cp39-cp39-win_amd64.whl.metadata (8.0 kB)\n",
      "Requirement already satisfied: charset-normalizer<4,>=2 in c:\\users\\lenovo\\appdata\\local\\programs\\python\\python39\\lib\\site-packages (from requests>=2.20->openai==0.28) (3.4.0)\n",
      "Requirement already satisfied: idna<4,>=2.5 in c:\\users\\lenovo\\appdata\\local\\programs\\python\\python39\\lib\\site-packages (from requests>=2.20->openai==0.28) (3.10)\n",
      "Requirement already satisfied: urllib3<3,>=1.21.1 in c:\\users\\lenovo\\appdata\\local\\programs\\python\\python39\\lib\\site-packages (from requests>=2.20->openai==0.28) (2.2.3)\n",
      "Requirement already satisfied: certifi>=2017.4.17 in c:\\users\\lenovo\\appdata\\local\\programs\\python\\python39\\lib\\site-packages (from requests>=2.20->openai==0.28) (2024.8.30)\n",
      "Collecting aiohappyeyeballs>=2.3.0 (from aiohttp->openai==0.28)\n",
      "  Downloading aiohappyeyeballs-2.4.4-py3-none-any.whl.metadata (6.1 kB)\n",
      "Collecting aiosignal>=1.1.2 (from aiohttp->openai==0.28)\n",
      "  Downloading aiosignal-1.3.2-py2.py3-none-any.whl.metadata (3.8 kB)\n",
      "Collecting async-timeout<6.0,>=4.0 (from aiohttp->openai==0.28)\n",
      "  Downloading async_timeout-5.0.1-py3-none-any.whl.metadata (5.1 kB)\n",
      "Requirement already satisfied: attrs>=17.3.0 in c:\\users\\lenovo\\appdata\\local\\programs\\python\\python39\\lib\\site-packages (from aiohttp->openai==0.28) (24.2.0)\n",
      "Collecting frozenlist>=1.1.1 (from aiohttp->openai==0.28)\n",
      "  Downloading frozenlist-1.5.0-cp39-cp39-win_amd64.whl.metadata (14 kB)\n",
      "Collecting multidict<7.0,>=4.5 (from aiohttp->openai==0.28)\n",
      "  Downloading multidict-6.1.0-cp39-cp39-win_amd64.whl.metadata (5.1 kB)\n",
      "Collecting propcache>=0.2.0 (from aiohttp->openai==0.28)\n",
      "  Downloading propcache-0.2.1-cp39-cp39-win_amd64.whl.metadata (9.5 kB)\n",
      "Collecting yarl<2.0,>=1.17.0 (from aiohttp->openai==0.28)\n",
      "  Downloading yarl-1.18.3-cp39-cp39-win_amd64.whl.metadata (71 kB)\n",
      "Requirement already satisfied: colorama in c:\\users\\lenovo\\appdata\\local\\programs\\python\\python39\\lib\\site-packages (from tqdm->openai==0.28) (0.4.6)\n",
      "Requirement already satisfied: typing-extensions>=4.1.0 in c:\\users\\lenovo\\appdata\\local\\programs\\python\\python39\\lib\\site-packages (from multidict<7.0,>=4.5->aiohttp->openai==0.28) (4.12.2)\n",
      "Downloading openai-0.28.0-py3-none-any.whl (76 kB)\n",
      "Downloading aiohttp-3.11.10-cp39-cp39-win_amd64.whl (441 kB)\n",
      "Downloading aiohappyeyeballs-2.4.4-py3-none-any.whl (14 kB)\n",
      "Downloading aiosignal-1.3.2-py2.py3-none-any.whl (7.6 kB)\n",
      "Downloading async_timeout-5.0.1-py3-none-any.whl (6.2 kB)\n",
      "Downloading frozenlist-1.5.0-cp39-cp39-win_amd64.whl (51 kB)\n",
      "Downloading multidict-6.1.0-cp39-cp39-win_amd64.whl (28 kB)\n",
      "Downloading propcache-0.2.1-cp39-cp39-win_amd64.whl (44 kB)\n",
      "Downloading yarl-1.18.3-cp39-cp39-win_amd64.whl (90 kB)\n",
      "Installing collected packages: propcache, multidict, frozenlist, async-timeout, aiohappyeyeballs, yarl, aiosignal, aiohttp, openai\n",
      "  Attempting uninstall: openai\n",
      "    Found existing installation: openai 1.57.4\n",
      "    Uninstalling openai-1.57.4:\n",
      "      Successfully uninstalled openai-1.57.4\n",
      "Successfully installed aiohappyeyeballs-2.4.4 aiohttp-3.11.10 aiosignal-1.3.2 async-timeout-5.0.1 frozenlist-1.5.0 multidict-6.1.0 openai-0.28.0 propcache-0.2.1 yarl-1.18.3\n",
      "Note: you may need to restart the kernel to use updated packages.\n"
     ]
    }
   ],
   "source": [
    "pip install openai==0.28\n"
   ]
  },
  {
   "cell_type": "code",
   "execution_count": 43,
   "id": "e6f73ad4-b7db-462b-b6e0-9ea53e29f81a",
   "metadata": {},
   "outputs": [
    {
     "name": "stdout",
     "output_type": "stream",
     "text": [
      "Requirement already satisfied: openai in c:\\users\\lenovo\\appdata\\local\\programs\\python\\python39\\lib\\site-packages (0.28.0)\n",
      "Collecting openai\n",
      "  Using cached openai-1.57.4-py3-none-any.whl.metadata (24 kB)\n",
      "Requirement already satisfied: anyio<5,>=3.5.0 in c:\\users\\lenovo\\appdata\\local\\programs\\python\\python39\\lib\\site-packages (from openai) (4.7.0)\n",
      "Requirement already satisfied: distro<2,>=1.7.0 in c:\\users\\lenovo\\appdata\\local\\programs\\python\\python39\\lib\\site-packages (from openai) (1.9.0)\n",
      "Requirement already satisfied: httpx<1,>=0.23.0 in c:\\users\\lenovo\\appdata\\local\\programs\\python\\python39\\lib\\site-packages (from openai) (0.28.1)\n",
      "Requirement already satisfied: jiter<1,>=0.4.0 in c:\\users\\lenovo\\appdata\\local\\programs\\python\\python39\\lib\\site-packages (from openai) (0.8.2)\n",
      "Requirement already satisfied: pydantic<3,>=1.9.0 in c:\\users\\lenovo\\appdata\\local\\programs\\python\\python39\\lib\\site-packages (from openai) (2.10.3)\n",
      "Requirement already satisfied: sniffio in c:\\users\\lenovo\\appdata\\local\\programs\\python\\python39\\lib\\site-packages (from openai) (1.3.1)\n",
      "Requirement already satisfied: tqdm>4 in c:\\users\\lenovo\\appdata\\local\\programs\\python\\python39\\lib\\site-packages (from openai) (4.67.1)\n",
      "Requirement already satisfied: typing-extensions<5,>=4.11 in c:\\users\\lenovo\\appdata\\local\\programs\\python\\python39\\lib\\site-packages (from openai) (4.12.2)\n",
      "Requirement already satisfied: exceptiongroup>=1.0.2 in c:\\users\\lenovo\\appdata\\local\\programs\\python\\python39\\lib\\site-packages (from anyio<5,>=3.5.0->openai) (1.2.2)\n",
      "Requirement already satisfied: idna>=2.8 in c:\\users\\lenovo\\appdata\\local\\programs\\python\\python39\\lib\\site-packages (from anyio<5,>=3.5.0->openai) (3.10)\n",
      "Requirement already satisfied: certifi in c:\\users\\lenovo\\appdata\\local\\programs\\python\\python39\\lib\\site-packages (from httpx<1,>=0.23.0->openai) (2024.8.30)\n",
      "Requirement already satisfied: httpcore==1.* in c:\\users\\lenovo\\appdata\\local\\programs\\python\\python39\\lib\\site-packages (from httpx<1,>=0.23.0->openai) (1.0.7)\n",
      "Requirement already satisfied: h11<0.15,>=0.13 in c:\\users\\lenovo\\appdata\\local\\programs\\python\\python39\\lib\\site-packages (from httpcore==1.*->httpx<1,>=0.23.0->openai) (0.14.0)\n",
      "Requirement already satisfied: annotated-types>=0.6.0 in c:\\users\\lenovo\\appdata\\local\\programs\\python\\python39\\lib\\site-packages (from pydantic<3,>=1.9.0->openai) (0.7.0)\n",
      "Requirement already satisfied: pydantic-core==2.27.1 in c:\\users\\lenovo\\appdata\\local\\programs\\python\\python39\\lib\\site-packages (from pydantic<3,>=1.9.0->openai) (2.27.1)\n",
      "Requirement already satisfied: colorama in c:\\users\\lenovo\\appdata\\local\\programs\\python\\python39\\lib\\site-packages (from tqdm>4->openai) (0.4.6)\n",
      "Using cached openai-1.57.4-py3-none-any.whl (390 kB)\n",
      "Installing collected packages: openai\n",
      "  Attempting uninstall: openai\n",
      "    Found existing installation: openai 0.28.0\n",
      "    Uninstalling openai-0.28.0:\n",
      "      Successfully uninstalled openai-0.28.0\n",
      "Successfully installed openai-1.57.4\n",
      "Note: you may need to restart the kernel to use updated packages.\n"
     ]
    }
   ],
   "source": [
    "pip install --upgrade openai\n"
   ]
  },
  {
   "cell_type": "code",
   "execution_count": 44,
   "id": "998d6343-4a1f-46fd-aeca-5d30cdca597d",
   "metadata": {},
   "outputs": [
    {
     "name": "stdout",
     "output_type": "stream",
     "text": [
      "Collecting openai==0.28\n",
      "  Using cached openai-0.28.0-py3-none-any.whl.metadata (13 kB)\n",
      "Requirement already satisfied: requests>=2.20 in c:\\users\\lenovo\\appdata\\local\\programs\\python\\python39\\lib\\site-packages (from openai==0.28) (2.32.3)\n",
      "Requirement already satisfied: tqdm in c:\\users\\lenovo\\appdata\\local\\programs\\python\\python39\\lib\\site-packages (from openai==0.28) (4.67.1)\n",
      "Requirement already satisfied: aiohttp in c:\\users\\lenovo\\appdata\\local\\programs\\python\\python39\\lib\\site-packages (from openai==0.28) (3.11.10)\n",
      "Requirement already satisfied: charset-normalizer<4,>=2 in c:\\users\\lenovo\\appdata\\local\\programs\\python\\python39\\lib\\site-packages (from requests>=2.20->openai==0.28) (3.4.0)\n",
      "Requirement already satisfied: idna<4,>=2.5 in c:\\users\\lenovo\\appdata\\local\\programs\\python\\python39\\lib\\site-packages (from requests>=2.20->openai==0.28) (3.10)\n",
      "Requirement already satisfied: urllib3<3,>=1.21.1 in c:\\users\\lenovo\\appdata\\local\\programs\\python\\python39\\lib\\site-packages (from requests>=2.20->openai==0.28) (2.2.3)\n",
      "Requirement already satisfied: certifi>=2017.4.17 in c:\\users\\lenovo\\appdata\\local\\programs\\python\\python39\\lib\\site-packages (from requests>=2.20->openai==0.28) (2024.8.30)\n",
      "Requirement already satisfied: aiohappyeyeballs>=2.3.0 in c:\\users\\lenovo\\appdata\\local\\programs\\python\\python39\\lib\\site-packages (from aiohttp->openai==0.28) (2.4.4)\n",
      "Requirement already satisfied: aiosignal>=1.1.2 in c:\\users\\lenovo\\appdata\\local\\programs\\python\\python39\\lib\\site-packages (from aiohttp->openai==0.28) (1.3.2)\n",
      "Requirement already satisfied: async-timeout<6.0,>=4.0 in c:\\users\\lenovo\\appdata\\local\\programs\\python\\python39\\lib\\site-packages (from aiohttp->openai==0.28) (5.0.1)\n",
      "Requirement already satisfied: attrs>=17.3.0 in c:\\users\\lenovo\\appdata\\local\\programs\\python\\python39\\lib\\site-packages (from aiohttp->openai==0.28) (24.2.0)\n",
      "Requirement already satisfied: frozenlist>=1.1.1 in c:\\users\\lenovo\\appdata\\local\\programs\\python\\python39\\lib\\site-packages (from aiohttp->openai==0.28) (1.5.0)\n",
      "Requirement already satisfied: multidict<7.0,>=4.5 in c:\\users\\lenovo\\appdata\\local\\programs\\python\\python39\\lib\\site-packages (from aiohttp->openai==0.28) (6.1.0)\n",
      "Requirement already satisfied: propcache>=0.2.0 in c:\\users\\lenovo\\appdata\\local\\programs\\python\\python39\\lib\\site-packages (from aiohttp->openai==0.28) (0.2.1)\n",
      "Requirement already satisfied: yarl<2.0,>=1.17.0 in c:\\users\\lenovo\\appdata\\local\\programs\\python\\python39\\lib\\site-packages (from aiohttp->openai==0.28) (1.18.3)\n",
      "Requirement already satisfied: colorama in c:\\users\\lenovo\\appdata\\local\\programs\\python\\python39\\lib\\site-packages (from tqdm->openai==0.28) (0.4.6)\n",
      "Requirement already satisfied: typing-extensions>=4.1.0 in c:\\users\\lenovo\\appdata\\local\\programs\\python\\python39\\lib\\site-packages (from multidict<7.0,>=4.5->aiohttp->openai==0.28) (4.12.2)\n",
      "Using cached openai-0.28.0-py3-none-any.whl (76 kB)\n",
      "Installing collected packages: openai\n",
      "  Attempting uninstall: openai\n",
      "    Found existing installation: openai 1.57.4\n",
      "    Uninstalling openai-1.57.4:\n",
      "      Successfully uninstalled openai-1.57.4\n",
      "Successfully installed openai-0.28.0\n",
      "Note: you may need to restart the kernel to use updated packages.\n"
     ]
    }
   ],
   "source": [
    "pip install openai==0.28\n"
   ]
  },
  {
   "cell_type": "code",
   "execution_count": 45,
   "id": "082cfcb7-76d6-42e2-a532-23479c575312",
   "metadata": {},
   "outputs": [
    {
     "name": "stdout",
     "output_type": "stream",
     "text": [
      "Name: openai\n",
      "Version: 0.28.0\n",
      "Summary: Python client library for the OpenAI API\n",
      "Home-page: https://github.com/openai/openai-python\n",
      "Author: OpenAI\n",
      "Author-email: support@openai.com\n",
      "License: \n",
      "Location: c:\\users\\lenovo\\appdata\\local\\programs\\python\\python39\\lib\\site-packages\n",
      "Requires: aiohttp, requests, tqdm\n",
      "Required-by: \n",
      "Note: you may need to restart the kernel to use updated packages.\n"
     ]
    }
   ],
   "source": [
    "pip show openai\n"
   ]
  },
  {
   "cell_type": "code",
   "execution_count": 46,
   "id": "20227cc4-e980-4bbe-9428-d968d52556e7",
   "metadata": {},
   "outputs": [
    {
     "name": "stdout",
     "output_type": "stream",
     "text": [
      "Requirement already satisfied: openai in c:\\users\\lenovo\\appdata\\local\\programs\\python\\python39\\lib\\site-packages (0.28.0)\n",
      "Collecting openai\n",
      "  Using cached openai-1.57.4-py3-none-any.whl.metadata (24 kB)\n",
      "Requirement already satisfied: anyio<5,>=3.5.0 in c:\\users\\lenovo\\appdata\\local\\programs\\python\\python39\\lib\\site-packages (from openai) (4.7.0)\n",
      "Requirement already satisfied: distro<2,>=1.7.0 in c:\\users\\lenovo\\appdata\\local\\programs\\python\\python39\\lib\\site-packages (from openai) (1.9.0)\n",
      "Requirement already satisfied: httpx<1,>=0.23.0 in c:\\users\\lenovo\\appdata\\local\\programs\\python\\python39\\lib\\site-packages (from openai) (0.28.1)\n",
      "Requirement already satisfied: jiter<1,>=0.4.0 in c:\\users\\lenovo\\appdata\\local\\programs\\python\\python39\\lib\\site-packages (from openai) (0.8.2)\n",
      "Requirement already satisfied: pydantic<3,>=1.9.0 in c:\\users\\lenovo\\appdata\\local\\programs\\python\\python39\\lib\\site-packages (from openai) (2.10.3)\n",
      "Requirement already satisfied: sniffio in c:\\users\\lenovo\\appdata\\local\\programs\\python\\python39\\lib\\site-packages (from openai) (1.3.1)\n",
      "Requirement already satisfied: tqdm>4 in c:\\users\\lenovo\\appdata\\local\\programs\\python\\python39\\lib\\site-packages (from openai) (4.67.1)\n",
      "Requirement already satisfied: typing-extensions<5,>=4.11 in c:\\users\\lenovo\\appdata\\local\\programs\\python\\python39\\lib\\site-packages (from openai) (4.12.2)\n",
      "Requirement already satisfied: exceptiongroup>=1.0.2 in c:\\users\\lenovo\\appdata\\local\\programs\\python\\python39\\lib\\site-packages (from anyio<5,>=3.5.0->openai) (1.2.2)\n",
      "Requirement already satisfied: idna>=2.8 in c:\\users\\lenovo\\appdata\\local\\programs\\python\\python39\\lib\\site-packages (from anyio<5,>=3.5.0->openai) (3.10)\n",
      "Requirement already satisfied: certifi in c:\\users\\lenovo\\appdata\\local\\programs\\python\\python39\\lib\\site-packages (from httpx<1,>=0.23.0->openai) (2024.8.30)\n",
      "Requirement already satisfied: httpcore==1.* in c:\\users\\lenovo\\appdata\\local\\programs\\python\\python39\\lib\\site-packages (from httpx<1,>=0.23.0->openai) (1.0.7)\n",
      "Requirement already satisfied: h11<0.15,>=0.13 in c:\\users\\lenovo\\appdata\\local\\programs\\python\\python39\\lib\\site-packages (from httpcore==1.*->httpx<1,>=0.23.0->openai) (0.14.0)\n",
      "Requirement already satisfied: annotated-types>=0.6.0 in c:\\users\\lenovo\\appdata\\local\\programs\\python\\python39\\lib\\site-packages (from pydantic<3,>=1.9.0->openai) (0.7.0)\n",
      "Requirement already satisfied: pydantic-core==2.27.1 in c:\\users\\lenovo\\appdata\\local\\programs\\python\\python39\\lib\\site-packages (from pydantic<3,>=1.9.0->openai) (2.27.1)\n",
      "Requirement already satisfied: colorama in c:\\users\\lenovo\\appdata\\local\\programs\\python\\python39\\lib\\site-packages (from tqdm>4->openai) (0.4.6)\n",
      "Using cached openai-1.57.4-py3-none-any.whl (390 kB)\n",
      "Installing collected packages: openai\n",
      "  Attempting uninstall: openai\n",
      "    Found existing installation: openai 0.28.0\n",
      "    Uninstalling openai-0.28.0:\n",
      "      Successfully uninstalled openai-0.28.0\n",
      "Successfully installed openai-1.57.4\n",
      "Note: you may need to restart the kernel to use updated packages.\n"
     ]
    }
   ],
   "source": [
    "pip install --upgrade openai\n"
   ]
  },
  {
   "cell_type": "code",
   "execution_count": 47,
   "id": "b36e0c3f-c4f6-4db1-9fd9-b8f46921b815",
   "metadata": {},
   "outputs": [
    {
     "name": "stdout",
     "output_type": "stream",
     "text": [
      "Name: openai\n",
      "Version: 1.57.4\n",
      "Summary: The official Python library for the openai API\n",
      "Home-page: https://github.com/openai/openai-python\n",
      "Author: \n",
      "Author-email: OpenAI <support@openai.com>\n",
      "License: Apache-2.0\n",
      "Location: c:\\users\\lenovo\\appdata\\local\\programs\\python\\python39\\lib\\site-packages\n",
      "Requires: anyio, distro, httpx, jiter, pydantic, sniffio, tqdm, typing-extensions\n",
      "Required-by: \n",
      "Note: you may need to restart the kernel to use updated packages.\n"
     ]
    }
   ],
   "source": [
    "pip show openai\n"
   ]
  },
  {
   "cell_type": "code",
   "execution_count": null,
   "id": "720163e7-8dd6-44d4-917d-e87f6bf8c947",
   "metadata": {},
   "outputs": [],
   "source": [
    "!pip install transformers torch\n"
   ]
  },
  {
   "cell_type": "code",
   "execution_count": null,
   "id": "72894ed4-1faa-4fe4-b5f0-15016688b9f8",
   "metadata": {},
   "outputs": [],
   "source": [
    "\n"
   ]
  },
  {
   "cell_type": "code",
   "execution_count": null,
   "id": "416cac24-a9b3-4d3a-8c1a-5d862302d8dc",
   "metadata": {},
   "outputs": [],
   "source": []
  }
 ],
 "metadata": {
  "kernelspec": {
   "display_name": "Python 3 (ipykernel)",
   "language": "python",
   "name": "python3"
  },
  "language_info": {
   "codemirror_mode": {
    "name": "ipython",
    "version": 3
   },
   "file_extension": ".py",
   "mimetype": "text/x-python",
   "name": "python",
   "nbconvert_exporter": "python",
   "pygments_lexer": "ipython3",
   "version": "3.9.9"
  }
 },
 "nbformat": 4,
 "nbformat_minor": 5
}
